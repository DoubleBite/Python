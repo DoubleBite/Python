{
 "cells": [
  {
   "cell_type": "code",
   "execution_count": 2,
   "metadata": {},
   "outputs": [],
   "source": [
    "from __future__ import print_function"
   ]
  },
  {
   "cell_type": "code",
   "execution_count": 42,
   "metadata": {},
   "outputs": [],
   "source": [
    "def bubble_sort(collection):\n",
    "    '''Bubble sort\n",
    "\n",
    "    Arguments:\n",
    "        collection: some mutable unordered collection with comparable items inside\n",
    "\n",
    "    Returns:\n",
    "        The same collection ordered by ascending\n",
    "        \n",
    "    Example Usage:\n",
    "        >>>bubble_sort([12, 25, 5])\n",
    "        [5, 12, 25]\n",
    "    '''\n",
    "    length = len(collection)\n",
    "    \n",
    "    for ith_round in range(length-1):\n",
    "        is_swapped = False\n",
    "        for j in range(length-1-ith_round):\n",
    "            if collection[j]>=collection[j+1]:\n",
    "                collection[j+1], collection[j] = collection[j], collection[j+1]\n",
    "                is_swapped = True\n",
    "        if not is_swapped: break # Stop iteration if the collection is sorted\n",
    "    return collection\n",
    "    "
   ]
  },
  {
   "cell_type": "code",
   "execution_count": 44,
   "metadata": {},
   "outputs": [
    {
     "name": "stdin",
     "output_type": "stream",
     "text": [
      "Enter numbers separated by a comma: 12, 25, 5\n"
     ]
    }
   ],
   "source": [
    "user_input = input('Enter numbers separated by a comma:').strip()\n",
    "unsorted = [int(i) for i in user_input.split(\",\")]"
   ]
  },
  {
   "cell_type": "code",
   "execution_count": 45,
   "metadata": {},
   "outputs": [
    {
     "data": {
      "text/plain": [
       "[5, 12, 25]"
      ]
     },
     "execution_count": 45,
     "metadata": {},
     "output_type": "execute_result"
    }
   ],
   "source": [
    "bubble_sort(unsorted)"
   ]
  },
  {
   "cell_type": "code",
   "execution_count": 46,
   "metadata": {},
   "outputs": [
    {
     "data": {
      "text/plain": [
       "[5, 12, 25]"
      ]
     },
     "execution_count": 46,
     "metadata": {},
     "output_type": "execute_result"
    }
   ],
   "source": [
    "unsorted"
   ]
  }
 ],
 "metadata": {
  "kernelspec": {
   "display_name": "NLU",
   "language": "python",
   "name": "nlu"
  },
  "language_info": {
   "codemirror_mode": {
    "name": "ipython",
    "version": 3
   },
   "file_extension": ".py",
   "mimetype": "text/x-python",
   "name": "python",
   "nbconvert_exporter": "python",
   "pygments_lexer": "ipython3",
   "version": "3.7.3"
  }
 },
 "nbformat": 4,
 "nbformat_minor": 2
}
